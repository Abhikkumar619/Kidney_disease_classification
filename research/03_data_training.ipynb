{
 "cells": [
  {
   "cell_type": "markdown",
   "metadata": {},
   "source": [
    "- 1. Update config.yaml "
   ]
  },
  {
   "cell_type": "markdown",
   "metadata": {},
   "source": [
    "- 2. Update entity"
   ]
  },
  {
   "cell_type": "code",
   "execution_count": 1,
   "metadata": {},
   "outputs": [],
   "source": [
    "import os"
   ]
  },
  {
   "cell_type": "code",
   "execution_count": 2,
   "metadata": {},
   "outputs": [
    {
     "data": {
      "text/plain": [
       "'c:\\\\TheBritishCollege\\\\DataScience\\\\Kidney_disease_classification\\\\research'"
      ]
     },
     "execution_count": 2,
     "metadata": {},
     "output_type": "execute_result"
    }
   ],
   "source": [
    "os.getcwd()"
   ]
  },
  {
   "cell_type": "code",
   "execution_count": 3,
   "metadata": {},
   "outputs": [],
   "source": [
    "os.chdir('../')"
   ]
  },
  {
   "cell_type": "code",
   "execution_count": 4,
   "metadata": {},
   "outputs": [
    {
     "data": {
      "text/plain": [
       "'c:\\\\TheBritishCollege\\\\DataScience\\\\Kidney_disease_classification'"
      ]
     },
     "execution_count": 4,
     "metadata": {},
     "output_type": "execute_result"
    }
   ],
   "source": [
    "os.getcwd()"
   ]
  },
  {
   "cell_type": "code",
   "execution_count": 5,
   "metadata": {},
   "outputs": [],
   "source": [
    "from dataclasses import dataclass\n",
    "from pathlib import Path"
   ]
  },
  {
   "cell_type": "code",
   "execution_count": null,
   "metadata": {},
   "outputs": [],
   "source": []
  },
  {
   "cell_type": "code",
   "execution_count": 6,
   "metadata": {},
   "outputs": [],
   "source": [
    "@dataclass(frozen=True)\n",
    "class ModelTrainingConfig: \n",
    "    root_dir: Path\n",
    "    trained_model_path: Path\n",
    "    params_augmentation: bool\n",
    "    params_image_size: list\n",
    "    params_epochs: int\n",
    "    params_batch_size: int\n",
    "    training_data: Path\n",
    "    final_model_train: Path\n",
    "\n"
   ]
  },
  {
   "cell_type": "markdown",
   "metadata": {},
   "source": [
    "- 3. Update configuration Manger"
   ]
  },
  {
   "cell_type": "code",
   "execution_count": 7,
   "metadata": {},
   "outputs": [],
   "source": [
    "from src.cnn_classifier.constants import *\n",
    "from src.cnn_classifier.utils.common import read_yaml, create_directories\n",
    "from src.cnn_classifier import logger"
   ]
  },
  {
   "cell_type": "code",
   "execution_count": 25,
   "metadata": {},
   "outputs": [],
   "source": [
    "class ConfigurationManager:\n",
    "    def __init__(self, config_filepath=CONFIG_FILE_PATH, \n",
    "                 params_filepath=PARAMS_FILE_PATH):\n",
    "        self.config=read_yaml(config_filepath)\n",
    "        self.params=read_yaml(params_filepath)\n",
    "\n",
    "        create_directories([self.config.artifacts_root])\n",
    "\n",
    "    def get_model_training_config(self)-> ModelTrainingConfig:\n",
    "        \n",
    "        # config_train=self.config.training\n",
    "        params=self.params\n",
    "        prepare_base_model=self.config.prepare_base_model\n",
    "        training_data_path=os.path.join(self.config.data_ingestion.unzip_dir, \"kidney-ct-scan-image\")\n",
    "        create_directories([self.config.training.root_dir])\n",
    "        try: \n",
    "            model_training_config=ModelTrainingConfig(\n",
    "                root_dir=Path(self.config.training.root_dir),\n",
    "                trained_model_path=Path(prepare_base_model.updated_base_model_path),\n",
    "                training_data=Path(training_data_path),\n",
    "                final_model_train=Path(self.config.training.trained_model_path),\n",
    "                \n",
    "                \n",
    "                params_augmentation= params.AUGMENTATION,\n",
    "                params_batch_size=params.BATCH_SIZE,\n",
    "                params_image_size=params.IMAGE_SIZE,\n",
    "                params_epochs=params.EPOCHS\n",
    "                )\n",
    "            return model_training_config\n",
    "        except Exception as e: \n",
    "            raise e\n",
    "            \n",
    "            "
   ]
  },
  {
   "cell_type": "markdown",
   "metadata": {},
   "source": [
    "- 4. Update Components"
   ]
  },
  {
   "cell_type": "code",
   "execution_count": 26,
   "metadata": {},
   "outputs": [],
   "source": [
    "import os\n",
    "import urllib.request as request\n",
    "from zipfile import ZipFile\n",
    "import tensorflow as tf\n",
    "import time"
   ]
  },
  {
   "cell_type": "code",
   "execution_count": 33,
   "metadata": {},
   "outputs": [],
   "source": [
    "class Training: \n",
    "    def __init__(self, config: ModelTrainingConfig): \n",
    "        self.config=config\n",
    "    \n",
    "    def get_base_model(self): \n",
    "        self.model=tf.keras.models.load_model(\n",
    "            self.config.trained_model_path\n",
    "            )\n",
    "    \n",
    "    def train_valid_generator(self): \n",
    "\n",
    "        datagenerator_kwargs= dict(\n",
    "            rescale=1./255,\n",
    "            validation_split=0.20\n",
    "            )\n",
    "        logger.info(f\"Train_valid generator : {datagenerator_kwargs}\")\n",
    "        \n",
    "        dataflow_kwargs = dict(\n",
    "            target_size=self.config.params_image_size[:-1],\n",
    "            batch_size=self.config.params_batch_size,\n",
    "            interpolation=\"bilinear\"\n",
    "        )\n",
    "        logger.info(f\"Data flow kwargs : {dataflow_kwargs}\")\n",
    "\n",
    "        valid_datagenerator = tf.keras.preprocessing.image.ImageDataGenerator(\n",
    "            **datagenerator_kwargs\n",
    "        )\n",
    "\n",
    "        self.valid_generator = valid_datagenerator.flow_from_directory(\n",
    "            directory=self.config.training_data,\n",
    "            subset=\"validation\",\n",
    "            shuffle=False,\n",
    "            **dataflow_kwargs\n",
    "        )\n",
    "\n",
    "        if self.config.params_augmentation:\n",
    "            train_datagenerator = tf.keras.preprocessing.image.ImageDataGenerator(\n",
    "                rotation_range=40,\n",
    "                horizontal_flip=True,\n",
    "                width_shift_range=0.2,\n",
    "                height_shift_range=0.2,\n",
    "                shear_range=0.2,\n",
    "                zoom_range=0.2,\n",
    "                **datagenerator_kwargs\n",
    "            )\n",
    "        else:\n",
    "            train_datagenerator = valid_datagenerator\n",
    "\n",
    "        self.train_generator = train_datagenerator.flow_from_directory(\n",
    "            directory=self.config.training_data,\n",
    "            subset=\"training\",\n",
    "            shuffle=True,\n",
    "            **dataflow_kwargs\n",
    "        )\n",
    "\n",
    "    \n",
    "    @staticmethod\n",
    "    def save_model(path: Path, model: tf.keras.Model):\n",
    "        model.save(path)\n",
    "\n",
    "    \n",
    "    def train(self):\n",
    "            self.steps_per_epoch = self.train_generator.samples // self.train_generator.batch_size\n",
    "            self.validation_steps = self.valid_generator.samples // self.valid_generator.batch_size\n",
    "\n",
    "            logger.info(f\"In train function steps_per_epoch: {self.steps_per_epoch}\")\n",
    "            logger.info(f\"In train function steps_per_epoch: {self.validation_steps}\")\n",
    "\n",
    "\n",
    "\n",
    "            self.model.fit(\n",
    "                self.train_generator,\n",
    "                epochs=self.config.params_epochs,\n",
    "                steps_per_epoch=self.steps_per_epoch,\n",
    "                validation_steps=self.validation_steps,\n",
    "                validation_data=self.valid_generator\n",
    "            )\n",
    "\n",
    "            self.save_model(\n",
    "                path=self.config.final_model_train\n",
    "                model=self.model\n",
    "            )"
   ]
  },
  {
   "cell_type": "code",
   "execution_count": 34,
   "metadata": {},
   "outputs": [
    {
     "name": "stdout",
     "output_type": "stream",
     "text": [
      "[2023-10-12 08:38:22,866 - INFO, - common - yaml file : config\\config.yaml loaded sucessfully]\n",
      "[2023-10-12 08:38:22,871 - INFO, - common - yaml file : params.yaml loaded sucessfully]\n",
      "[2023-10-12 08:38:22,877 - INFO, - common - Created directories at : artifacts]\n",
      "[2023-10-12 08:38:22,879 - INFO, - common - Created directories at : artifacts/training]\n"
     ]
    },
    {
     "name": "stdout",
     "output_type": "stream",
     "text": [
      "[2023-10-12 08:38:24,461 - INFO, - 684293453 - Train_valid generator : {'rescale': 0.00392156862745098, 'validation_split': 0.2}]\n",
      "[2023-10-12 08:38:24,463 - INFO, - 684293453 - Data flow kwargs : {'target_size': [224, 224], 'batch_size': 16, 'interpolation': 'bilinear'}]\n",
      "Found 93 images belonging to 2 classes.\n",
      "Found 372 images belonging to 2 classes.\n",
      "[2023-10-12 08:38:24,551 - INFO, - 684293453 - In train function steps_per_epoch: 23]\n",
      "[2023-10-12 08:38:24,554 - INFO, - 684293453 - In train function steps_per_epoch: 5]\n",
      "23/23 [==============================] - 809s 36s/step - loss: 10.0724 - accuracy: 0.6096 - val_loss: 17.6537 - val_accuracy: 0.4750\n"
     ]
    }
   ],
   "source": [
    "try:\n",
    "    config = ConfigurationManager()\n",
    "    training_config = config.get_model_training_config()\n",
    "    training = Training(config=training_config)\n",
    "    training.get_base_model()\n",
    "    training.train_valid_generator()\n",
    "    training.train()\n",
    "    \n",
    "except Exception as e:\n",
    "    raise e"
   ]
  },
  {
   "cell_type": "code",
   "execution_count": null,
   "metadata": {},
   "outputs": [],
   "source": []
  },
  {
   "cell_type": "code",
   "execution_count": null,
   "metadata": {},
   "outputs": [],
   "source": []
  }
 ],
 "metadata": {
  "kernelspec": {
   "display_name": "Python 3",
   "language": "python",
   "name": "python3"
  },
  "language_info": {
   "codemirror_mode": {
    "name": "ipython",
    "version": 3
   },
   "file_extension": ".py",
   "mimetype": "text/x-python",
   "name": "python",
   "nbconvert_exporter": "python",
   "pygments_lexer": "ipython3",
   "version": "3.11.0"
  }
 },
 "nbformat": 4,
 "nbformat_minor": 2
}
