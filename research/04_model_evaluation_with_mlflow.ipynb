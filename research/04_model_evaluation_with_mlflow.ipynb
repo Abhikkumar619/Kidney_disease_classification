{
 "cells": [
  {
   "cell_type": "code",
   "execution_count": 3,
   "metadata": {},
   "outputs": [],
   "source": [
    "import os\n"
   ]
  },
  {
   "cell_type": "code",
   "execution_count": 4,
   "metadata": {},
   "outputs": [
    {
     "data": {
      "text/plain": [
       "'c:\\\\TheBritishCollege\\\\DataScience\\\\Kidney_disease_classification\\\\research'"
      ]
     },
     "execution_count": 4,
     "metadata": {},
     "output_type": "execute_result"
    }
   ],
   "source": [
    "os.getcwd()"
   ]
  },
  {
   "cell_type": "code",
   "execution_count": 5,
   "metadata": {},
   "outputs": [],
   "source": [
    "os.chdir(\"../\")"
   ]
  },
  {
   "cell_type": "code",
   "execution_count": 6,
   "metadata": {},
   "outputs": [
    {
     "data": {
      "text/plain": [
       "'c:\\\\TheBritishCollege\\\\DataScience\\\\Kidney_disease_classification'"
      ]
     },
     "execution_count": 6,
     "metadata": {},
     "output_type": "execute_result"
    }
   ],
   "source": [
    "os.getcwd()"
   ]
  },
  {
   "cell_type": "code",
   "execution_count": 7,
   "metadata": {},
   "outputs": [],
   "source": [
    "os.environ[\"MLFLOW_TRACKING_URI\"]=\"https://dagshub.com/Abhikkumar619/Kidney_disease_classification.mlflow\"\n",
    "os.environ[\"MLFLOW_TRACKING_USERNAME\"]=\"Abhikkumar619\"\n",
    "os.environ[\"MLFLOW_TRACKING_PASSWORD\"]=\"b515b18fe70cac23bd1c8591a7c54e188845b00c\""
   ]
  },
  {
   "cell_type": "code",
   "execution_count": 8,
   "metadata": {},
   "outputs": [],
   "source": [
    "import tensorflow as tf"
   ]
  },
  {
   "cell_type": "code",
   "execution_count": 9,
   "metadata": {},
   "outputs": [],
   "source": [
    "model=tf.keras.models.load_model(\"artifacts/training/model.h5\")"
   ]
  },
  {
   "cell_type": "code",
   "execution_count": 10,
   "metadata": {},
   "outputs": [],
   "source": [
    "from dataclasses import dataclass\n",
    "from pathlib import Path"
   ]
  },
  {
   "cell_type": "code",
   "execution_count": 11,
   "metadata": {},
   "outputs": [],
   "source": [
    "@dataclass(frozen=True)\n",
    "class EvaluationConfig: \n",
    "    path_of_model: Path\n",
    "    training_data: Path\n",
    "    all_params: dict\n",
    "    mlflow_uri: str\n",
    "    params_image_size: list\n",
    "    params_batch_size: int"
   ]
  },
  {
   "cell_type": "code",
   "execution_count": 1,
   "metadata": {},
   "outputs": [],
   "source": [
    "from cnn_classifier.constants import *\n",
    "from cnn_classifier.utils.common import read_yaml, create_directories, save_json"
   ]
  },
  {
   "cell_type": "code",
   "execution_count": 13,
   "metadata": {},
   "outputs": [],
   "source": [
    "class ConfigurationManager:\n",
    "    def __init__(self, config_filepath=CONFIG_FILE_PATH, \n",
    "                 params_filepath=PARAMS_FILE_PATH):\n",
    "        self.config=read_yaml(config_filepath)\n",
    "        self.params=read_yaml(params_filepath)\n",
    "\n",
    "        create_directories([self.config.artifacts_root])\n",
    "\n",
    "    def get_evaluation_config(self)-> EvaluationConfig:\n",
    "\n",
    "        evaluation_config=EvaluationConfig(\n",
    "            path_of_model=\"artifacts/training/model.h5\",\n",
    "            training_data=\"artifacts/data_ingestion/kidney-ct-scan-image\",\n",
    "            mlflow_uri=\"https://dagshub.com/Abhikkumar619/Kidney_disease_classification.mlflow\",\n",
    "            all_params=self.params,\n",
    "            params_image_size=self.params.IMAGE_SIZE,\n",
    "            params_batch_size=self.params.BATCH_SIZE\n",
    "\n",
    "        ) \n",
    "        return evaluation_config\n"
   ]
  },
  {
   "cell_type": "code",
   "execution_count": 14,
   "metadata": {},
   "outputs": [],
   "source": [
    "import tensorflow as tf\n",
    "from pathlib import Path\n",
    "import mlflow\n",
    "import mlflow.keras\n",
    "from urllib.parse import urlparse\n",
    "from src.cnn_classifier import logger"
   ]
  },
  {
   "cell_type": "code",
   "execution_count": 20,
   "metadata": {},
   "outputs": [],
   "source": [
    "class Evalutaion: \n",
    "    def __init__(self, config: EvaluationConfig): \n",
    "        self.config=config\n",
    "\n",
    "    \n",
    "    def train_valid_generator(self): \n",
    "\n",
    "        datagenerator_kwargs= dict(\n",
    "            rescale=1./255,\n",
    "            validation_split=0.30\n",
    "            )\n",
    "        logger.info(f\"Train_valid generator : {datagenerator_kwargs}\")\n",
    "        \n",
    "        dataflow_kwargs = dict(\n",
    "            target_size=self.config.params_image_size[:-1],\n",
    "            batch_size=self.config.params_batch_size,\n",
    "            interpolation=\"bilinear\"\n",
    "        )\n",
    "        logger.info(f\"Data flow kwargs : {dataflow_kwargs}\")\n",
    "\n",
    "        valid_datagenerator = tf.keras.preprocessing.image.ImageDataGenerator(\n",
    "            **datagenerator_kwargs\n",
    "        )\n",
    "\n",
    "        self.valid_generator = valid_datagenerator.flow_from_directory(\n",
    "            directory=self.config.training_data,\n",
    "            subset=\"validation\",\n",
    "            shuffle=False,\n",
    "            **dataflow_kwargs\n",
    "        )\n",
    "\n",
    "    @staticmethod\n",
    "    def load_model(path: Path)-> tf.keras.Model:\n",
    "        return tf.keras.models.load_model(path)\n",
    "\n",
    "    def save_score(self):\n",
    "        scores={\"loss\": self.score[0], \"accuracy\": self.score[1]}\n",
    "        logger.info(f\"scores: {scores}\")\n",
    "        save_json(path=Path(\"scores.json\"), data=scores)\n",
    "\n",
    "\n",
    "    def evaluation(self):\n",
    "        self.model=self.load_model(self.config.path_of_model)\n",
    "        self.train_valid_generator()\n",
    "        self.score=model.evaluate(self.valid_generator)\n",
    "        logger.info(f\"Evaluation score {self.score}\")\n",
    "        self.save_score()\n",
    "    \n",
    "\n",
    "    \n",
    "    def log_into_mlflow(self):\n",
    "        mlflow.set_registry_uri(self.config.mlflow_uri)\n",
    "        tracking_url_type_store=urlparse(mlflow.get_tracking_uri()).scheme\n",
    "\n",
    "        with mlflow.start_run():\n",
    "            mlflow.log_params(self.config.all_params)\n",
    "            mlflow.log_metrics(\n",
    "                {\"loss\": self.score[0], \"accuracy\": self.score[1]}\n",
    "            )\n",
    "        if tracking_url_type_store !=\"file\": \n",
    "            mlflow.keras.log_model(self.model, \"model\", registered_model_name=\"VGG16Model\")\n",
    "        else: \n",
    "            mlflow.keras.log_model(self.model, \"model\")\n"
   ]
  },
  {
   "cell_type": "code",
   "execution_count": 30,
   "metadata": {},
   "outputs": [
    {
     "name": "stdout",
     "output_type": "stream",
     "text": [
      "[2023-10-12 22:23:48,048 - INFO, - common - yaml file : config\\config.yaml loaded sucessfully]\n",
      "[2023-10-12 22:23:48,082 - INFO, - common - yaml file : params.yaml loaded sucessfully]\n",
      "[2023-10-12 22:23:48,089 - INFO, - common - Created directories at : artifacts]\n",
      "[2023-10-12 22:23:51,255 - INFO, - 2122144254 - Train_valid generator : {'rescale': 0.00392156862745098, 'validation_split': 0.3}]\n",
      "[2023-10-12 22:23:51,257 - INFO, - 2122144254 - Data flow kwargs : {'target_size': [224, 224], 'batch_size': 16, 'interpolation': 'bilinear'}]\n",
      "Found 139 images belonging to 2 classes.\n",
      "9/9 [==============================] - 189s 21s/step - loss: 22.6897 - accuracy: 0.4820\n",
      "[2023-10-12 22:27:10,689 - INFO, - 2122144254 - Evaluation score [22.689699172973633, 0.48201438784599304]]\n",
      "[2023-10-12 22:27:10,699 - INFO, - 2122144254 - scores: {'loss': 22.689699172973633, 'accuracy': 0.48201438784599304}]\n"
     ]
    },
    {
     "name": "stderr",
     "output_type": "stream",
     "text": [
      "2023/10/12 22:27:36 WARNING mlflow.tensorflow: You are saving a TensorFlow Core model or Keras model without a signature. Inference with mlflow.pyfunc.spark_udf() will not work unless the model's pyfunc representation accepts pandas DataFrames as inference inputs.\n"
     ]
    },
    {
     "name": "stdout",
     "output_type": "stream",
     "text": [
      "[2023-10-12 22:27:40,607 - WARNING, - save - Found untraced functions such as _jit_compiled_convolution_op, _jit_compiled_convolution_op, _jit_compiled_convolution_op, _jit_compiled_convolution_op, _jit_compiled_convolution_op while saving (showing 5 of 14). These functions will not be directly callable after loading.]\n",
      "INFO:tensorflow:Assets written to: C:\\Users\\abish\\AppData\\Local\\Temp\\tmpnxdypqw2\\model\\data\\model\\assets\n",
      "[2023-10-12 22:27:45,889 - INFO, - builder_impl - Assets written to: C:\\Users\\abish\\AppData\\Local\\Temp\\tmpnxdypqw2\\model\\data\\model\\assets]\n"
     ]
    },
    {
     "name": "stderr",
     "output_type": "stream",
     "text": [
      "c:\\TheBritishCollege\\DataScience\\Kidney_disease_classification\\kidney_vnv\\Lib\\site-packages\\_distutils_hack\\__init__.py:33: UserWarning: Setuptools is replacing distutils.\n",
      "  warnings.warn(\"Setuptools is replacing distutils.\")\n",
      "Successfully registered model 'VGG16Model'.\n"
     ]
    },
    {
     "ename": "MlflowException",
     "evalue": "API request to endpoint /api/2.0/mlflow/runs/get failed with error code 400 != 200. Response body: '\"repo not associated with run\"'",
     "output_type": "error",
     "traceback": [
      "\u001b[1;31m---------------------------------------------------------------------------\u001b[0m",
      "\u001b[1;31mMlflowException\u001b[0m                           Traceback (most recent call last)",
      "\u001b[1;32mc:\\TheBritishCollege\\DataScience\\Kidney_disease_classification\\research\\04_model_evaluation_with_mlflow.ipynb Cell 14\u001b[0m line \u001b[0;36m8\n\u001b[0;32m      <a href='vscode-notebook-cell:/c%3A/TheBritishCollege/DataScience/Kidney_disease_classification/research/04_model_evaluation_with_mlflow.ipynb#X16sZmlsZQ%3D%3D?line=5'>6</a>\u001b[0m     evaluation\u001b[39m.\u001b[39mlog_into_mlflow()\n\u001b[0;32m      <a href='vscode-notebook-cell:/c%3A/TheBritishCollege/DataScience/Kidney_disease_classification/research/04_model_evaluation_with_mlflow.ipynb#X16sZmlsZQ%3D%3D?line=6'>7</a>\u001b[0m \u001b[39mexcept\u001b[39;00m \u001b[39mException\u001b[39;00m \u001b[39mas\u001b[39;00m e: \n\u001b[1;32m----> <a href='vscode-notebook-cell:/c%3A/TheBritishCollege/DataScience/Kidney_disease_classification/research/04_model_evaluation_with_mlflow.ipynb#X16sZmlsZQ%3D%3D?line=7'>8</a>\u001b[0m     \u001b[39mraise\u001b[39;00m e\n",
      "\u001b[1;32mc:\\TheBritishCollege\\DataScience\\Kidney_disease_classification\\research\\04_model_evaluation_with_mlflow.ipynb Cell 14\u001b[0m line \u001b[0;36m6\n\u001b[0;32m      <a href='vscode-notebook-cell:/c%3A/TheBritishCollege/DataScience/Kidney_disease_classification/research/04_model_evaluation_with_mlflow.ipynb#X16sZmlsZQ%3D%3D?line=3'>4</a>\u001b[0m     evaluation\u001b[39m=\u001b[39mEvalutaion(config\u001b[39m=\u001b[39mmodel_evaluation_config)\n\u001b[0;32m      <a href='vscode-notebook-cell:/c%3A/TheBritishCollege/DataScience/Kidney_disease_classification/research/04_model_evaluation_with_mlflow.ipynb#X16sZmlsZQ%3D%3D?line=4'>5</a>\u001b[0m     evaluation\u001b[39m.\u001b[39mevaluation()\n\u001b[1;32m----> <a href='vscode-notebook-cell:/c%3A/TheBritishCollege/DataScience/Kidney_disease_classification/research/04_model_evaluation_with_mlflow.ipynb#X16sZmlsZQ%3D%3D?line=5'>6</a>\u001b[0m     evaluation\u001b[39m.\u001b[39;49mlog_into_mlflow()\n\u001b[0;32m      <a href='vscode-notebook-cell:/c%3A/TheBritishCollege/DataScience/Kidney_disease_classification/research/04_model_evaluation_with_mlflow.ipynb#X16sZmlsZQ%3D%3D?line=6'>7</a>\u001b[0m \u001b[39mexcept\u001b[39;00m \u001b[39mException\u001b[39;00m \u001b[39mas\u001b[39;00m e: \n\u001b[0;32m      <a href='vscode-notebook-cell:/c%3A/TheBritishCollege/DataScience/Kidney_disease_classification/research/04_model_evaluation_with_mlflow.ipynb#X16sZmlsZQ%3D%3D?line=7'>8</a>\u001b[0m     \u001b[39mraise\u001b[39;00m e\n",
      "\u001b[1;32mc:\\TheBritishCollege\\DataScience\\Kidney_disease_classification\\research\\04_model_evaluation_with_mlflow.ipynb Cell 14\u001b[0m line \u001b[0;36m6\n\u001b[0;32m     <a href='vscode-notebook-cell:/c%3A/TheBritishCollege/DataScience/Kidney_disease_classification/research/04_model_evaluation_with_mlflow.ipynb#X16sZmlsZQ%3D%3D?line=56'>57</a>\u001b[0m     mlflow\u001b[39m.\u001b[39mlog_metrics(\n\u001b[0;32m     <a href='vscode-notebook-cell:/c%3A/TheBritishCollege/DataScience/Kidney_disease_classification/research/04_model_evaluation_with_mlflow.ipynb#X16sZmlsZQ%3D%3D?line=57'>58</a>\u001b[0m         {\u001b[39m\"\u001b[39m\u001b[39mloss\u001b[39m\u001b[39m\"\u001b[39m: \u001b[39mself\u001b[39m\u001b[39m.\u001b[39mscore[\u001b[39m0\u001b[39m], \u001b[39m\"\u001b[39m\u001b[39maccuracy\u001b[39m\u001b[39m\"\u001b[39m: \u001b[39mself\u001b[39m\u001b[39m.\u001b[39mscore[\u001b[39m1\u001b[39m]}\n\u001b[0;32m     <a href='vscode-notebook-cell:/c%3A/TheBritishCollege/DataScience/Kidney_disease_classification/research/04_model_evaluation_with_mlflow.ipynb#X16sZmlsZQ%3D%3D?line=58'>59</a>\u001b[0m     )\n\u001b[0;32m     <a href='vscode-notebook-cell:/c%3A/TheBritishCollege/DataScience/Kidney_disease_classification/research/04_model_evaluation_with_mlflow.ipynb#X16sZmlsZQ%3D%3D?line=59'>60</a>\u001b[0m \u001b[39mif\u001b[39;00m tracking_url_type_store \u001b[39m!=\u001b[39m\u001b[39m\"\u001b[39m\u001b[39mfile\u001b[39m\u001b[39m\"\u001b[39m: \n\u001b[1;32m---> <a href='vscode-notebook-cell:/c%3A/TheBritishCollege/DataScience/Kidney_disease_classification/research/04_model_evaluation_with_mlflow.ipynb#X16sZmlsZQ%3D%3D?line=60'>61</a>\u001b[0m     mlflow\u001b[39m.\u001b[39;49mkeras\u001b[39m.\u001b[39;49mlog_model(\u001b[39mself\u001b[39;49m\u001b[39m.\u001b[39;49mmodel, \u001b[39m\"\u001b[39;49m\u001b[39mmodel\u001b[39;49m\u001b[39m\"\u001b[39;49m, registered_model_name\u001b[39m=\u001b[39;49m\u001b[39m\"\u001b[39;49m\u001b[39mVGG16Model\u001b[39;49m\u001b[39m\"\u001b[39;49m)\n\u001b[0;32m     <a href='vscode-notebook-cell:/c%3A/TheBritishCollege/DataScience/Kidney_disease_classification/research/04_model_evaluation_with_mlflow.ipynb#X16sZmlsZQ%3D%3D?line=61'>62</a>\u001b[0m \u001b[39melse\u001b[39;00m: \n\u001b[0;32m     <a href='vscode-notebook-cell:/c%3A/TheBritishCollege/DataScience/Kidney_disease_classification/research/04_model_evaluation_with_mlflow.ipynb#X16sZmlsZQ%3D%3D?line=62'>63</a>\u001b[0m     mlflow\u001b[39m.\u001b[39mkeras\u001b[39m.\u001b[39mlog_model(\u001b[39mself\u001b[39m\u001b[39m.\u001b[39mmodel, \u001b[39m\"\u001b[39m\u001b[39mmodel\u001b[39m\u001b[39m\"\u001b[39m)\n",
      "File \u001b[1;32mc:\\TheBritishCollege\\DataScience\\Kidney_disease_classification\\kidney_vnv\\Lib\\site-packages\\mlflow\\tensorflow\\__init__.py:222\u001b[0m, in \u001b[0;36mlog_model\u001b[1;34m(model, artifact_path, custom_objects, conda_env, code_paths, signature, input_example, registered_model_name, await_registration_for, pip_requirements, extra_pip_requirements, saved_model_kwargs, keras_model_kwargs, metadata)\u001b[0m\n\u001b[0;32m    124\u001b[0m \u001b[39m@format_docstring\u001b[39m(LOG_MODEL_PARAM_DOCS\u001b[39m.\u001b[39mformat(package_name\u001b[39m=\u001b[39mFLAVOR_NAME))\n\u001b[0;32m    125\u001b[0m \u001b[39mdef\u001b[39;00m \u001b[39mlog_model\u001b[39m(\n\u001b[0;32m    126\u001b[0m     model,\n\u001b[1;32m   (...)\u001b[0m\n\u001b[0;32m    139\u001b[0m     metadata\u001b[39m=\u001b[39m\u001b[39mNone\u001b[39;00m,\n\u001b[0;32m    140\u001b[0m ):\n\u001b[0;32m    141\u001b[0m \u001b[39m    \u001b[39m\u001b[39m\"\"\"\u001b[39;00m\n\u001b[0;32m    142\u001b[0m \u001b[39m    Log a TF2 core model (inheriting tf.Module) or a Keras model in MLflow Model format.\u001b[39;00m\n\u001b[0;32m    143\u001b[0m \n\u001b[1;32m   (...)\u001b[0m\n\u001b[0;32m    219\u001b[0m \u001b[39m             metadata of the logged model.\u001b[39;00m\n\u001b[0;32m    220\u001b[0m \u001b[39m    \"\"\"\u001b[39;00m\n\u001b[1;32m--> 222\u001b[0m     \u001b[39mreturn\u001b[39;00m Model\u001b[39m.\u001b[39;49mlog(\n\u001b[0;32m    223\u001b[0m         artifact_path\u001b[39m=\u001b[39;49martifact_path,\n\u001b[0;32m    224\u001b[0m         flavor\u001b[39m=\u001b[39;49mmlflow\u001b[39m.\u001b[39;49mtensorflow,\n\u001b[0;32m    225\u001b[0m         model\u001b[39m=\u001b[39;49mmodel,\n\u001b[0;32m    226\u001b[0m         conda_env\u001b[39m=\u001b[39;49mconda_env,\n\u001b[0;32m    227\u001b[0m         code_paths\u001b[39m=\u001b[39;49mcode_paths,\n\u001b[0;32m    228\u001b[0m         custom_objects\u001b[39m=\u001b[39;49mcustom_objects,\n\u001b[0;32m    229\u001b[0m         registered_model_name\u001b[39m=\u001b[39;49mregistered_model_name,\n\u001b[0;32m    230\u001b[0m         signature\u001b[39m=\u001b[39;49msignature,\n\u001b[0;32m    231\u001b[0m         input_example\u001b[39m=\u001b[39;49minput_example,\n\u001b[0;32m    232\u001b[0m         await_registration_for\u001b[39m=\u001b[39;49mawait_registration_for,\n\u001b[0;32m    233\u001b[0m         pip_requirements\u001b[39m=\u001b[39;49mpip_requirements,\n\u001b[0;32m    234\u001b[0m         extra_pip_requirements\u001b[39m=\u001b[39;49mextra_pip_requirements,\n\u001b[0;32m    235\u001b[0m         saved_model_kwargs\u001b[39m=\u001b[39;49msaved_model_kwargs,\n\u001b[0;32m    236\u001b[0m         keras_model_kwargs\u001b[39m=\u001b[39;49mkeras_model_kwargs,\n\u001b[0;32m    237\u001b[0m         metadata\u001b[39m=\u001b[39;49mmetadata,\n\u001b[0;32m    238\u001b[0m     )\n",
      "File \u001b[1;32mc:\\TheBritishCollege\\DataScience\\Kidney_disease_classification\\kidney_vnv\\Lib\\site-packages\\mlflow\\models\\model.py:562\u001b[0m, in \u001b[0;36mModel.log\u001b[1;34m(cls, artifact_path, flavor, registered_model_name, await_registration_for, metadata, **kwargs)\u001b[0m\n\u001b[0;32m    560\u001b[0m     \u001b[39mif\u001b[39;00m registered_model_name \u001b[39mis\u001b[39;00m \u001b[39mnot\u001b[39;00m \u001b[39mNone\u001b[39;00m:\n\u001b[0;32m    561\u001b[0m         run_id \u001b[39m=\u001b[39m mlflow\u001b[39m.\u001b[39mtracking\u001b[39m.\u001b[39mfluent\u001b[39m.\u001b[39mactive_run()\u001b[39m.\u001b[39minfo\u001b[39m.\u001b[39mrun_id\n\u001b[1;32m--> 562\u001b[0m         mlflow\u001b[39m.\u001b[39;49mregister_model(\n\u001b[0;32m    563\u001b[0m             \u001b[39m\"\u001b[39;49m\u001b[39mruns:/\u001b[39;49m\u001b[39m{}\u001b[39;49;00m\u001b[39m/\u001b[39;49m\u001b[39m{}\u001b[39;49;00m\u001b[39m\"\u001b[39;49m\u001b[39m.\u001b[39;49mformat(run_id, mlflow_model\u001b[39m.\u001b[39;49martifact_path),\n\u001b[0;32m    564\u001b[0m             registered_model_name,\n\u001b[0;32m    565\u001b[0m             await_registration_for\u001b[39m=\u001b[39;49mawait_registration_for,\n\u001b[0;32m    566\u001b[0m         )\n\u001b[0;32m    567\u001b[0m \u001b[39mreturn\u001b[39;00m mlflow_model\u001b[39m.\u001b[39mget_model_info()\n",
      "File \u001b[1;32mc:\\TheBritishCollege\\DataScience\\Kidney_disease_classification\\kidney_vnv\\Lib\\site-packages\\mlflow\\tracking\\_model_registry\\fluent.py:80\u001b[0m, in \u001b[0;36mregister_model\u001b[1;34m(model_uri, name, await_registration_for, tags)\u001b[0m\n\u001b[0;32m     77\u001b[0m         \u001b[39mraise\u001b[39;00m e\n\u001b[0;32m     79\u001b[0m \u001b[39mif\u001b[39;00m RunsArtifactRepository\u001b[39m.\u001b[39mis_runs_uri(model_uri):\n\u001b[1;32m---> 80\u001b[0m     source \u001b[39m=\u001b[39m RunsArtifactRepository\u001b[39m.\u001b[39;49mget_underlying_uri(model_uri)\n\u001b[0;32m     81\u001b[0m     (run_id, _) \u001b[39m=\u001b[39m RunsArtifactRepository\u001b[39m.\u001b[39mparse_runs_uri(model_uri)\n\u001b[0;32m     82\u001b[0m     create_version_response \u001b[39m=\u001b[39m client\u001b[39m.\u001b[39mcreate_model_version(\n\u001b[0;32m     83\u001b[0m         name, source, run_id, tags\u001b[39m=\u001b[39mtags, await_creation_for\u001b[39m=\u001b[39mawait_registration_for\n\u001b[0;32m     84\u001b[0m     )\n",
      "File \u001b[1;32mc:\\TheBritishCollege\\DataScience\\Kidney_disease_classification\\kidney_vnv\\Lib\\site-packages\\mlflow\\store\\artifact\\runs_artifact_repo.py:39\u001b[0m, in \u001b[0;36mRunsArtifactRepository.get_underlying_uri\u001b[1;34m(runs_uri)\u001b[0m\n\u001b[0;32m     37\u001b[0m (run_id, artifact_path) \u001b[39m=\u001b[39m RunsArtifactRepository\u001b[39m.\u001b[39mparse_runs_uri(runs_uri)\n\u001b[0;32m     38\u001b[0m tracking_uri \u001b[39m=\u001b[39m get_databricks_profile_uri_from_artifact_uri(runs_uri)\n\u001b[1;32m---> 39\u001b[0m uri \u001b[39m=\u001b[39m get_artifact_uri(run_id, artifact_path, tracking_uri)\n\u001b[0;32m     40\u001b[0m \u001b[39massert\u001b[39;00m \u001b[39mnot\u001b[39;00m RunsArtifactRepository\u001b[39m.\u001b[39mis_runs_uri(uri)  \u001b[39m# avoid an infinite loop\u001b[39;00m\n\u001b[0;32m     41\u001b[0m \u001b[39mreturn\u001b[39;00m add_databricks_profile_info_to_artifact_uri(uri, tracking_uri)\n",
      "File \u001b[1;32mc:\\TheBritishCollege\\DataScience\\Kidney_disease_classification\\kidney_vnv\\Lib\\site-packages\\mlflow\\tracking\\artifact_utils.py:47\u001b[0m, in \u001b[0;36mget_artifact_uri\u001b[1;34m(run_id, artifact_path, tracking_uri)\u001b[0m\n\u001b[0;32m     41\u001b[0m     \u001b[39mraise\u001b[39;00m MlflowException(\n\u001b[0;32m     42\u001b[0m         message\u001b[39m=\u001b[39m\u001b[39m\"\u001b[39m\u001b[39mA run_id must be specified in order to obtain an artifact uri!\u001b[39m\u001b[39m\"\u001b[39m,\n\u001b[0;32m     43\u001b[0m         error_code\u001b[39m=\u001b[39mINVALID_PARAMETER_VALUE,\n\u001b[0;32m     44\u001b[0m     )\n\u001b[0;32m     46\u001b[0m store \u001b[39m=\u001b[39m _get_store(tracking_uri)\n\u001b[1;32m---> 47\u001b[0m run \u001b[39m=\u001b[39m store\u001b[39m.\u001b[39;49mget_run(run_id)\n\u001b[0;32m     48\u001b[0m \u001b[39m# Maybe move this method to RunsArtifactRepository so the circular dependency is clearer.\u001b[39;00m\n\u001b[0;32m     49\u001b[0m \u001b[39massert\u001b[39;00m urllib\u001b[39m.\u001b[39mparse\u001b[39m.\u001b[39murlparse(run\u001b[39m.\u001b[39minfo\u001b[39m.\u001b[39martifact_uri)\u001b[39m.\u001b[39mscheme \u001b[39m!=\u001b[39m \u001b[39m\"\u001b[39m\u001b[39mruns\u001b[39m\u001b[39m\"\u001b[39m  \u001b[39m# avoid an infinite loop\u001b[39;00m\n",
      "File \u001b[1;32mc:\\TheBritishCollege\\DataScience\\Kidney_disease_classification\\kidney_vnv\\Lib\\site-packages\\mlflow\\store\\tracking\\rest_store.py:134\u001b[0m, in \u001b[0;36mRestStore.get_run\u001b[1;34m(self, run_id)\u001b[0m\n\u001b[0;32m    126\u001b[0m \u001b[39m\u001b[39m\u001b[39m\"\"\"\u001b[39;00m\n\u001b[0;32m    127\u001b[0m \u001b[39mFetch the run from backend store\u001b[39;00m\n\u001b[0;32m    128\u001b[0m \n\u001b[1;32m   (...)\u001b[0m\n\u001b[0;32m    131\u001b[0m \u001b[39m:return: A single Run object if it exists, otherwise raises an Exception\u001b[39;00m\n\u001b[0;32m    132\u001b[0m \u001b[39m\"\"\"\u001b[39;00m\n\u001b[0;32m    133\u001b[0m req_body \u001b[39m=\u001b[39m message_to_json(GetRun(run_uuid\u001b[39m=\u001b[39mrun_id, run_id\u001b[39m=\u001b[39mrun_id))\n\u001b[1;32m--> 134\u001b[0m response_proto \u001b[39m=\u001b[39m \u001b[39mself\u001b[39;49m\u001b[39m.\u001b[39;49m_call_endpoint(GetRun, req_body)\n\u001b[0;32m    135\u001b[0m \u001b[39mreturn\u001b[39;00m Run\u001b[39m.\u001b[39mfrom_proto(response_proto\u001b[39m.\u001b[39mrun)\n",
      "File \u001b[1;32mc:\\TheBritishCollege\\DataScience\\Kidney_disease_classification\\kidney_vnv\\Lib\\site-packages\\mlflow\\store\\tracking\\rest_store.py:56\u001b[0m, in \u001b[0;36mRestStore._call_endpoint\u001b[1;34m(self, api, json_body)\u001b[0m\n\u001b[0;32m     54\u001b[0m endpoint, method \u001b[39m=\u001b[39m _METHOD_TO_INFO[api]\n\u001b[0;32m     55\u001b[0m response_proto \u001b[39m=\u001b[39m api\u001b[39m.\u001b[39mResponse()\n\u001b[1;32m---> 56\u001b[0m \u001b[39mreturn\u001b[39;00m call_endpoint(\u001b[39mself\u001b[39;49m\u001b[39m.\u001b[39;49mget_host_creds(), endpoint, method, json_body, response_proto)\n",
      "File \u001b[1;32mc:\\TheBritishCollege\\DataScience\\Kidney_disease_classification\\kidney_vnv\\Lib\\site-packages\\mlflow\\utils\\rest_utils.py:281\u001b[0m, in \u001b[0;36mcall_endpoint\u001b[1;34m(host_creds, endpoint, method, json_body, response_proto)\u001b[0m\n\u001b[0;32m    277\u001b[0m \u001b[39melse\u001b[39;00m:\n\u001b[0;32m    278\u001b[0m     response \u001b[39m=\u001b[39m http_request(\n\u001b[0;32m    279\u001b[0m         host_creds\u001b[39m=\u001b[39mhost_creds, endpoint\u001b[39m=\u001b[39mendpoint, method\u001b[39m=\u001b[39mmethod, json\u001b[39m=\u001b[39mjson_body\n\u001b[0;32m    280\u001b[0m     )\n\u001b[1;32m--> 281\u001b[0m response \u001b[39m=\u001b[39m verify_rest_response(response, endpoint)\n\u001b[0;32m    282\u001b[0m js_dict \u001b[39m=\u001b[39m json\u001b[39m.\u001b[39mloads(response\u001b[39m.\u001b[39mtext)\n\u001b[0;32m    283\u001b[0m parse_dict(js_dict\u001b[39m=\u001b[39mjs_dict, message\u001b[39m=\u001b[39mresponse_proto)\n",
      "File \u001b[1;32mc:\\TheBritishCollege\\DataScience\\Kidney_disease_classification\\kidney_vnv\\Lib\\site-packages\\mlflow\\utils\\rest_utils.py:213\u001b[0m, in \u001b[0;36mverify_rest_response\u001b[1;34m(response, endpoint)\u001b[0m\n\u001b[0;32m    208\u001b[0m     \u001b[39melse\u001b[39;00m:\n\u001b[0;32m    209\u001b[0m         base_msg \u001b[39m=\u001b[39m \u001b[39m\"\u001b[39m\u001b[39mAPI request to endpoint \u001b[39m\u001b[39m{}\u001b[39;00m\u001b[39m failed with error code \u001b[39m\u001b[39m{}\u001b[39;00m\u001b[39m != 200\u001b[39m\u001b[39m\"\u001b[39m\u001b[39m.\u001b[39mformat(\n\u001b[0;32m    210\u001b[0m             endpoint,\n\u001b[0;32m    211\u001b[0m             response\u001b[39m.\u001b[39mstatus_code,\n\u001b[0;32m    212\u001b[0m         )\n\u001b[1;32m--> 213\u001b[0m         \u001b[39mraise\u001b[39;00m MlflowException(\n\u001b[0;32m    214\u001b[0m             \u001b[39m\"\u001b[39m\u001b[39m{}\u001b[39;00m\u001b[39m. Response body: \u001b[39m\u001b[39m'\u001b[39m\u001b[39m{}\u001b[39;00m\u001b[39m'\u001b[39m\u001b[39m\"\u001b[39m\u001b[39m.\u001b[39mformat(base_msg, response\u001b[39m.\u001b[39mtext),\n\u001b[0;32m    215\u001b[0m             error_code\u001b[39m=\u001b[39mget_error_code(response\u001b[39m.\u001b[39mstatus_code),\n\u001b[0;32m    216\u001b[0m         )\n\u001b[0;32m    218\u001b[0m \u001b[39m# Skip validation for endpoints (e.g. DBFS file-download API) which may return a non-JSON\u001b[39;00m\n\u001b[0;32m    219\u001b[0m \u001b[39m# response\u001b[39;00m\n\u001b[0;32m    220\u001b[0m \u001b[39mif\u001b[39;00m endpoint\u001b[39m.\u001b[39mstartswith(_REST_API_PATH_PREFIX) \u001b[39mand\u001b[39;00m \u001b[39mnot\u001b[39;00m _can_parse_as_json_object(response\u001b[39m.\u001b[39mtext):\n",
      "\u001b[1;31mMlflowException\u001b[0m: API request to endpoint /api/2.0/mlflow/runs/get failed with error code 400 != 200. Response body: '\"repo not associated with run\"'"
     ]
    }
   ],
   "source": [
    "try: \n",
    "    config=ConfigurationManager()\n",
    "    model_evaluation_config=config.get_evaluation_config()\n",
    "    evaluation=Evalutaion(config=model_evaluation_config)\n",
    "    evaluation.evaluation()\n",
    "    evaluation.log_into_mlflow()\n",
    "except Exception as e: \n",
    "    raise e"
   ]
  },
  {
   "cell_type": "code",
   "execution_count": null,
   "metadata": {},
   "outputs": [],
   "source": []
  },
  {
   "cell_type": "code",
   "execution_count": 9,
   "metadata": {},
   "outputs": [],
   "source": [
    "\n"
   ]
  },
  {
   "cell_type": "code",
   "execution_count": 2,
   "metadata": {},
   "outputs": [],
   "source": [
    "di={\"key\": \"value1\", \"key2\": \"value2\"}\n",
    "save_json( data=di,path=Path(\"test12.json\"))\n"
   ]
  },
  {
   "cell_type": "code",
   "execution_count": 14,
   "metadata": {},
   "outputs": [],
   "source": []
  },
  {
   "cell_type": "code",
   "execution_count": 15,
   "metadata": {},
   "outputs": [],
   "source": [
    "di={\"key\": \"value1\", \"key2\": \"value2\"}\n",
    "save_json( data=di,path=Path(\"test.json\"))"
   ]
  },
  {
   "cell_type": "code",
   "execution_count": null,
   "metadata": {},
   "outputs": [],
   "source": []
  }
 ],
 "metadata": {
  "kernelspec": {
   "display_name": "Python 3",
   "language": "python",
   "name": "python3"
  },
  "language_info": {
   "codemirror_mode": {
    "name": "ipython",
    "version": 3
   },
   "file_extension": ".py",
   "mimetype": "text/x-python",
   "name": "python",
   "nbconvert_exporter": "python",
   "pygments_lexer": "ipython3",
   "version": "3.11.0"
  }
 },
 "nbformat": 4,
 "nbformat_minor": 2
}
