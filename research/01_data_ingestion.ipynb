{
 "cells": [
  {
   "cell_type": "code",
   "execution_count": 1,
   "metadata": {},
   "outputs": [],
   "source": [
    "import os\n"
   ]
  },
  {
   "cell_type": "code",
   "execution_count": 2,
   "metadata": {},
   "outputs": [
    {
     "data": {
      "text/plain": [
       "'c:\\\\TheBritishCollege\\\\DataScience\\\\Kidney_disease_classification\\\\research'"
      ]
     },
     "execution_count": 2,
     "metadata": {},
     "output_type": "execute_result"
    }
   ],
   "source": [
    "os.getcwd()"
   ]
  },
  {
   "cell_type": "code",
   "execution_count": 3,
   "metadata": {},
   "outputs": [],
   "source": [
    "os.chdir('../')"
   ]
  },
  {
   "cell_type": "code",
   "execution_count": 4,
   "metadata": {},
   "outputs": [
    {
     "data": {
      "text/plain": [
       "'c:\\\\TheBritishCollege\\\\DataScience\\\\Kidney_disease_classification'"
      ]
     },
     "execution_count": 4,
     "metadata": {},
     "output_type": "execute_result"
    }
   ],
   "source": [
    "os.getcwd()"
   ]
  },
  {
   "cell_type": "code",
   "execution_count": 5,
   "metadata": {},
   "outputs": [],
   "source": [
    "os.chdir('c:\\\\TheBritishCollege\\\\DataScience\\KIDNEY_DISEASE_CLASSIFICATION')"
   ]
  },
  {
   "cell_type": "markdown",
   "metadata": {},
   "source": [
    "#### Design the Data_ingestion by fllowing Workflow of program which is mention in Readme.md file."
   ]
  },
  {
   "cell_type": "markdown",
   "metadata": {},
   "source": [
    "- 1.  Update config.yaml, parmas.yaml"
   ]
  },
  {
   "cell_type": "markdown",
   "metadata": {},
   "source": [
    "- 2. Update the entity"
   ]
  },
  {
   "cell_type": "code",
   "execution_count": 6,
   "metadata": {},
   "outputs": [],
   "source": [
    "\n",
    "from dataclasses import dataclass\n",
    "from pathlib import Path\n",
    "\n",
    "# Creating entity - entity is the return type of the function \n",
    "@dataclass(frozen=True)\n",
    "class DataIngestionConfig:\n",
    "    root_dir: Path\n",
    "    source_URl: str\n",
    "    local_data_file: Path\n",
    "    unzip_dir: Path"
   ]
  },
  {
   "cell_type": "markdown",
   "metadata": {},
   "source": [
    "- 3.  Update the configuration manager in src config."
   ]
  },
  {
   "cell_type": "code",
   "execution_count": 7,
   "metadata": {},
   "outputs": [],
   "source": [
    "from src.cnn_classifier.constants import *\n",
    "from src.cnn_classifier.utils.common import create_directories , read_yaml\n",
    "from src.cnn_classifier import logger"
   ]
  },
  {
   "cell_type": "code",
   "execution_count": 8,
   "metadata": {},
   "outputs": [],
   "source": [
    "class ConfigurationManager:\n",
    "    def __init__(self,\n",
    "                 config_filepath=CONFIG_FILE_PATH,\n",
    "                 params_filepath=PARAMS_FILE_PATH):\n",
    "        \n",
    "        self.config=read_yaml(config_filepath)\n",
    "        self.params=read_yaml(params_filepath)\n",
    "\n",
    "        create_directories([self.config.artifacts_root])\n",
    "\n",
    "    def get_data_ingestion_config(self)-> DataIngestionConfig:\n",
    "        config=self.config.data_ingestion\n",
    "\n",
    "        data_ingestion_config=DataIngestionConfig(\n",
    "            root_dir=config.root_dir,\n",
    "            source_URl=config.source_URL, \n",
    "            local_data_file=config.local_data_file,\n",
    "            unzip_dir=config.unzip_dir\n",
    "        )\n",
    "        return data_ingestion_config\n"
   ]
  },
  {
   "cell_type": "markdown",
   "metadata": {},
   "source": [
    "- 3 Update the components"
   ]
  },
  {
   "cell_type": "code",
   "execution_count": 9,
   "metadata": {},
   "outputs": [],
   "source": [
    "import os\n",
    "import zipfile\n",
    "import gdown\n",
    "from cnn_classifier.utils.common import get_size"
   ]
  },
  {
   "cell_type": "code",
   "execution_count": 10,
   "metadata": {},
   "outputs": [],
   "source": [
    "class DataIngestion:\n",
    "    def __init__(self, config: DataIngestionConfig):\n",
    "        self.config=config\n",
    "\n",
    "        \"\"\"\n",
    "        Fetch data from url\n",
    "        \"\"\"\n",
    "    def download_data(self):\n",
    "        try: \n",
    "            url=self.config.source_URl\n",
    "            zip_download_dir=self.config.local_data_file\n",
    "            logger.info(f\"URL: {url} zip_download_dir: {zip_download_dir}\")\n",
    "            download_id=url.split(\"/\")[-2]\n",
    "            os.makedirs(self.config.root_dir, exist_ok=True)\n",
    "            prefix='https://drive.google.com/uc?/export=download&id='+download_id\n",
    "            gdown.download(prefix, zip_download_dir)\n",
    "            logger.info(f\"Download_prefix : {prefix} and download sucessfully happen\")\n",
    "        except Exception as e: \n",
    "            raise e\n",
    "\n",
    "\n",
    "    def unzip_dir(self):\n",
    "        \"\"\"\n",
    "        Unzip the dataset directories.\n",
    "        \"\"\"\n",
    "        try:\n",
    "            unzip_path=self.config.root_dir\n",
    "            with zipfile.ZipFile(self.config.local_data_file,'r') as zip:\n",
    "                zip.extractall(unzip_path)\n",
    "                \n",
    "        except  Exception as e:\n",
    "            raise e\n",
    "            \n",
    "       "
   ]
  },
  {
   "cell_type": "markdown",
   "metadata": {},
   "source": [
    "- 4 Update the pipeline"
   ]
  },
  {
   "cell_type": "code",
   "execution_count": 11,
   "metadata": {},
   "outputs": [
    {
     "name": "stdout",
     "output_type": "stream",
     "text": [
      "[2023-10-13 12:27:26,999 - INFO, - common - yaml file : config\\config.yaml loaded sucessfully]\n",
      "[2023-10-13 12:27:27,007 - INFO, - common - yaml file : params.yaml loaded sucessfully]\n",
      "[2023-10-13 12:27:27,011 - INFO, - common - Created directories at : artifacts]\n",
      "[2023-10-13 12:27:27,014 - INFO, - 3095440931 - URL: https://drive.google.com/file/d/1vlhZ5c7abUKF8xXERIw6m9Te8fW7ohw3/view?usp=sharing zip_download_dir: artifacts/data_ingestion/kidney_CT_scan_data.zip]\n"
     ]
    },
    {
     "name": "stderr",
     "output_type": "stream",
     "text": [
      "Downloading...\n",
      "From (uriginal): https://drive.google.com/uc?/export=download&id=1vlhZ5c7abUKF8xXERIw6m9Te8fW7ohw3\n",
      "From (redirected): https://drive.google.com/uc?/export=download&id=1vlhZ5c7abUKF8xXERIw6m9Te8fW7ohw3&confirm=t&uuid=fe5c7d14-c9ea-42ac-82e4-9fab82862039\n",
      "To: c:\\TheBritishCollege\\DataScience\\Kidney_disease_classification\\artifacts\\data_ingestion\\kidney_CT_scan_data.zip\n",
      "100%|██████████| 57.7M/57.7M [00:44<00:00, 1.31MB/s]\n"
     ]
    },
    {
     "name": "stdout",
     "output_type": "stream",
     "text": [
      "[2023-10-13 12:28:13,679 - INFO, - 3095440931 - Download_prefix : https://drive.google.com/uc?/export=download&id=1vlhZ5c7abUKF8xXERIw6m9Te8fW7ohw3 and download sucessfully happen]\n"
     ]
    }
   ],
   "source": [
    "config=ConfigurationManager()\n",
    "data_ingestion_config=config.get_data_ingestion_config()\n",
    "data_ingestion=DataIngestion(data_ingestion_config)\n",
    "data_ingestion.download_data()\n",
    "data_ingestion.unzip_dir()\n"
   ]
  },
  {
   "cell_type": "code",
   "execution_count": null,
   "metadata": {},
   "outputs": [],
   "source": [
    "https://drive.google.com/drive/u/0/my-drive\n",
    "https://drive.google.com/file/d/1t1uLUkkPX5bRMA_Lv1UPeiFJZBq4C_3C/view?usp=sharing\n",
    "https://drive.google.com/file/d/1t1uLUkkPX5bRMA_Lv1UPeiFJZBq4C_3C/view?usp=sharing"
   ]
  }
 ],
 "metadata": {
  "kernelspec": {
   "display_name": "Python 3",
   "language": "python",
   "name": "python3"
  },
  "language_info": {
   "codemirror_mode": {
    "name": "ipython",
    "version": 3
   },
   "file_extension": ".py",
   "mimetype": "text/x-python",
   "name": "python",
   "nbconvert_exporter": "python",
   "pygments_lexer": "ipython3",
   "version": "3.11.0"
  }
 },
 "nbformat": 4,
 "nbformat_minor": 2
}
